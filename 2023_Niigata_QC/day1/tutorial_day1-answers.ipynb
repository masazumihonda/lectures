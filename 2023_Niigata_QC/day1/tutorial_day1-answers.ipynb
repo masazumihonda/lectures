{
 "cells": [
  {
   "cell_type": "markdown",
   "metadata": {},
   "source": [
    "# Intensive lectures at Niigata U. \n",
    "## (6-7th July 2023)\n"
   ]
  },
  {
   "cell_type": "markdown",
   "metadata": {},
   "source": [
    "# Hands-on 1: Some basics on Qiskit"
   ]
  },
  {
   "cell_type": "markdown",
   "metadata": {},
   "source": [
    "## 1-1. Import packages"
   ]
  },
  {
   "cell_type": "code",
   "execution_count": 1,
   "metadata": {},
   "outputs": [],
   "source": [
    "import numpy as np\n",
    "from qiskit import *"
   ]
  },
  {
   "cell_type": "markdown",
   "metadata": {},
   "source": [
    "## 1-2. Draw quantum circuits\n",
    "### Step1: Specify the number of qubits"
   ]
  },
  {
   "cell_type": "code",
   "execution_count": 2,
   "metadata": {},
   "outputs": [
    {
     "data": {
      "image/png": "[encoded data removed]",
      "text/plain": [
       "<Figure size 116.407x84.28 with 1 Axes>"
      ]
     },
     "execution_count": 2,
     "metadata": {},
     "output_type": "execute_result"
    }
   ],
   "source": [
    "n=1 # the number of qubits\n",
    "q = QuantumRegister(n)\n",
    "qc = QuantumCircuit(q) \n",
    "qc.draw(output='mpl')\n",
    "# if you get an error, try it again without \"output ='mpl'\"\n",
    "#qc.draw()"
   ]
  },
  {
   "cell_type": "markdown",
   "metadata": {},
   "source": [
    "Design of output may depend on PC environment.\n",
    "Now we are in |0> state."
   ]
  },
  {
   "cell_type": "markdown",
   "metadata": {},
   "source": [
    "### Step 2: Act quantum gates\n",
    "* Act X gate"
   ]
  },
  {
   "cell_type": "code",
   "execution_count": 3,
   "metadata": {},
   "outputs": [
    {
     "data": {
      "image/png": "[encoded data removed]",
      "text/plain": [
       "<Figure size 146.652x84.28 with 1 Axes>"
      ]
     },
     "execution_count": 3,
     "metadata": {},
     "output_type": "execute_result"
    }
   ],
   "source": [
    "q = QuantumRegister(1)\n",
    "qc = QuantumCircuit(q) \n",
    "qc.x(q[0])\n",
    "qc.draw(output='mpl')\n"
   ]
  },
  {
   "cell_type": "markdown",
   "metadata": {},
   "source": [
    "* Act Z gate"
   ]
  },
  {
   "cell_type": "code",
   "execution_count": 4,
   "metadata": {},
   "outputs": [
    {
     "data": {
      "image/png": "[encoded data removed]",
      "text/plain": [
       "<Figure size 146.797x84.28 with 1 Axes>"
      ]
     },
     "execution_count": 4,
     "metadata": {},
     "output_type": "execute_result"
    }
   ],
   "source": [
    "q = QuantumRegister(1)\n",
    "qc = QuantumCircuit(q) \n",
    "qc.z(q[0])\n",
    "qc.draw(output='mpl')"
   ]
  },
  {
   "cell_type": "markdown",
   "metadata": {},
   "source": [
    "* Act Hadamard gate"
   ]
  },
  {
   "cell_type": "code",
   "execution_count": 5,
   "metadata": {},
   "outputs": [
    {
     "data": {
      "image/png": "[encoded data removed]",
      "text/plain": [
       "<Figure size 146.797x84.28 with 1 Axes>"
      ]
     },
     "execution_count": 5,
     "metadata": {},
     "output_type": "execute_result"
    }
   ],
   "source": [
    "q = QuantumRegister(1)\n",
    "qc = QuantumCircuit(q) \n",
    "qc.h(q[0])\n",
    "qc.draw(output='mpl')"
   ]
  },
  {
   "cell_type": "code",
   "execution_count": null,
   "metadata": {},
   "outputs": [],
   "source": []
  },
  {
   "cell_type": "markdown",
   "metadata": {},
   "source": [
    "### Act \n",
    "$$R_z (\\theta ) = e^{-\\frac{i\\theta}{2}  Z}, \\quad \\theta =\\frac{\\pi}{2}$$"
   ]
  },
  {
   "cell_type": "code",
   "execution_count": 6,
   "metadata": {},
   "outputs": [
    {
     "data": {
      "image/png": "[encoded data removed]",
      "text/plain": [
       "<Figure size 146.797x84.28 with 1 Axes>"
      ]
     },
     "execution_count": 6,
     "metadata": {},
     "output_type": "execute_result"
    }
   ],
   "source": [
    "import math  # required to use \\pi\n",
    "q = QuantumRegister(1)\n",
    "qc = QuantumCircuit(q) \n",
    "\n",
    "theta=math.pi/2\n",
    "qc.rz(theta,q[0])\n",
    "\n",
    "qc.draw(output='mpl')"
   ]
  },
  {
   "cell_type": "markdown",
   "metadata": {},
   "source": [
    "### Take 2 qubits and act Controlled X"
   ]
  },
  {
   "cell_type": "code",
   "execution_count": 7,
   "metadata": {},
   "outputs": [
    {
     "data": {
      "image/png": "[encoded data removed]",
      "text/plain": [
       "<Figure size 159.923x144.48 with 1 Axes>"
      ]
     },
     "execution_count": 7,
     "metadata": {},
     "output_type": "execute_result"
    }
   ],
   "source": [
    "q = QuantumRegister(2)\n",
    "qc = QuantumCircuit(q) \n",
    "qc.cx(q[0],q[1])\n",
    "qc.draw(output='mpl')"
   ]
  },
  {
   "cell_type": "markdown",
   "metadata": {},
   "source": [
    "### Act in opposite direction"
   ]
  },
  {
   "cell_type": "code",
   "execution_count": 8,
   "metadata": {},
   "outputs": [
    {
     "data": {
      "image/png": "[encoded data removed]",
      "text/plain": [
       "<Figure size 159.778x144.48 with 1 Axes>"
      ]
     },
     "execution_count": 8,
     "metadata": {},
     "output_type": "execute_result"
    }
   ],
   "source": [
    "q = QuantumRegister(2)\n",
    "qc = QuantumCircuit(q) \n",
    "qc.cx(q[1],q[0])\n",
    "qc.draw(output='mpl')"
   ]
  },
  {
   "cell_type": "markdown",
   "metadata": {},
   "source": [
    "$$CCX|11\\rangle \\otimes |\\psi\\rangle \\equiv |11\\rangle \\otimes X|\\psi\\rangle $$\n",
    "$$CCX|ij\\rangle \\otimes |\\psi\\rangle \\equiv |ij\\rangle \\otimes |\\psi\\rangle \\quad {\\rm if}\\ (i,j)\\neq (1,1) $$"
   ]
  },
  {
   "cell_type": "code",
   "execution_count": 9,
   "metadata": {},
   "outputs": [
    {
     "data": {
      "image/png": "[encoded data removed]",
      "text/plain": [
       "<Figure size 160.069x204.68 with 1 Axes>"
      ]
     },
     "execution_count": 9,
     "metadata": {},
     "output_type": "execute_result"
    }
   ],
   "source": [
    "q = QuantumRegister(3)\n",
    "qc = QuantumCircuit(q) \n",
    "qc.ccx(q[0],q[1],q[2])\n",
    "qc.draw(output='mpl')"
   ]
  },
  {
   "cell_type": "markdown",
   "metadata": {},
   "source": [
    "## Excercise 1.  Draw the following circuit"
   ]
  },
  {
   "cell_type": "code",
   "execution_count": 34,
   "metadata": {},
   "outputs": [
    {
     "data": {
      "image/png": "[encoded data removed]",
      "text/plain": [
       "<Figure size 621.264x204.68 with 1 Axes>"
      ]
     },
     "execution_count": 34,
     "metadata": {},
     "output_type": "execute_result"
    }
   ],
   "source": []
  },
  {
   "cell_type": "code",
   "execution_count": null,
   "metadata": {},
   "outputs": [],
   "source": [
    "\n",
    "\n",
    "\n",
    "\n",
    "\n",
    "\n",
    "\n",
    "\n",
    "\n",
    "\n",
    "\n",
    "\n",
    "\n",
    "\n",
    "\n",
    "\n",
    "\n",
    "\n",
    "\n",
    "\n",
    "\n",
    "\n",
    "\n",
    "\n",
    "\n",
    "\n",
    "\n",
    "\n",
    "\n",
    "\n",
    "\n",
    "\n"
   ]
  },
  {
   "cell_type": "markdown",
   "metadata": {},
   "source": [
    "## Answer:"
   ]
  },
  {
   "cell_type": "code",
   "execution_count": 10,
   "metadata": {},
   "outputs": [
    {
     "data": {
      "image/png": "[encoded data removed]",
      "text/plain": [
       "<Figure size 521.123x204.68 with 1 Axes>"
      ]
     },
     "execution_count": 10,
     "metadata": {},
     "output_type": "execute_result"
    }
   ],
   "source": [
    "q = QuantumRegister(3)\n",
    "qc = QuantumCircuit(q) \n",
    "qc.x(q[0])\n",
    "qc.y(q[2])\n",
    "qc.cx(q[0],q[1])\n",
    "qc.ry(0.1,q[1])\n",
    "qc.cx(q[2],q[1])\n",
    "qc.h(q[2])\n",
    "qc.cx(q[0],q[2])\n",
    "qc.z(q[0])\n",
    "qc.draw(output='mpl')"
   ]
  },
  {
   "cell_type": "markdown",
   "metadata": {},
   "source": [
    "## 1-3. Make measurement of single qubit cirquits"
   ]
  },
  {
   "cell_type": "markdown",
   "metadata": {},
   "source": [
    "###  Measure |0>"
   ]
  },
  {
   "cell_type": "code",
   "execution_count": 11,
   "metadata": {
    "scrolled": true
   },
   "outputs": [
    {
     "name": "stdout",
     "output_type": "stream",
     "text": [
      "{'0': 1000}\n"
     ]
    },
    {
     "data": {
      "image/png": "[encoded data removed]",
      "text/plain": [
       "<Figure size 146.797x144.48 with 1 Axes>"
      ]
     },
     "execution_count": 11,
     "metadata": {},
     "output_type": "execute_result"
    }
   ],
   "source": [
    "# the number of qubits\n",
    "n=1 \n",
    "# prepare both quantum and classical bits\n",
    "q = QuantumRegister(n)\n",
    "c = ClassicalRegister(n)\n",
    "qc = QuantumCircuit(q,c)\n",
    "# Act measument gate\n",
    "qc.measure(q[0], c[0]) \n",
    "\n",
    "# Use simulator called \"qasm_simulator\" in Aer (by changing here, we can use real quantum computer)\n",
    "simulator = Aer.get_backend('qasm_simulator')\n",
    "# Make measurement 1000 times\n",
    "job = execute(qc, simulator, shots=1000)\n",
    "# Get results \n",
    "result = job.result()\n",
    "counts = result.get_counts(qc)\n",
    "#print(result)\n",
    "print(counts)\n",
    "\n",
    "qc.draw(output='mpl')"
   ]
  },
  {
   "cell_type": "markdown",
   "metadata": {},
   "source": [
    "This means that the state |0> is measured 1000 times out of 1000 times"
   ]
  },
  {
   "cell_type": "code",
   "execution_count": 12,
   "metadata": {},
   "outputs": [
    {
     "data": {
      "image/png": "[encoded data removed]",
      "text/plain": [
       "<Figure size 504x360 with 1 Axes>"
      ]
     },
     "execution_count": 12,
     "metadata": {},
     "output_type": "execute_result"
    }
   ],
   "source": [
    "# Plot a histogram\n",
    "from qiskit.visualization import plot_histogram\n",
    "plot_histogram(counts)"
   ]
  },
  {
   "cell_type": "markdown",
   "metadata": {},
   "source": [
    "### Measure X|0>=|1>"
   ]
  },
  {
   "cell_type": "code",
   "execution_count": 13,
   "metadata": {},
   "outputs": [
    {
     "name": "stdout",
     "output_type": "stream",
     "text": [
      "{'1': 1000}\n"
     ]
    },
    {
     "data": {
      "image/png": "[encoded data removed]",
      "text/plain": [
       "<Figure size 220.123x144.48 with 1 Axes>"
      ]
     },
     "execution_count": 13,
     "metadata": {},
     "output_type": "execute_result"
    }
   ],
   "source": [
    "# the number of qubits\n",
    "n=1 \n",
    "q = QuantumRegister(n)\n",
    "c = ClassicalRegister(n)\n",
    "qc = QuantumCircuit(q,c)\n",
    "#Act X gate\n",
    "qc.x(q[0])\n",
    "# Act measument gate\n",
    "qc.measure(q[0], c[0]) \n",
    "\n",
    "# Make measurement 1000 times\n",
    "simulator = Aer.get_backend('qasm_simulator')\n",
    "job = execute(qc, simulator, shots=1000)\n",
    "result = job.result()\n",
    "counts = result.get_counts(qc)\n",
    "print(counts)\n",
    "\n",
    "qc.draw(output='mpl')"
   ]
  },
  {
   "cell_type": "code",
   "execution_count": 14,
   "metadata": {},
   "outputs": [
    {
     "data": {
      "image/png": "[encoded data removed]",
      "text/plain": [
       "<Figure size 504x360 with 1 Axes>"
      ]
     },
     "execution_count": 14,
     "metadata": {},
     "output_type": "execute_result"
    }
   ],
   "source": [
    "plot_histogram(counts)"
   ]
  },
  {
   "cell_type": "markdown",
   "metadata": {},
   "source": [
    "### Go to quantum world: measure\n",
    "$$ H|0\\rangle = \\frac{1}{\\sqrt{2}}(|0\\rangle +|1\\rangle ) $$"
   ]
  },
  {
   "cell_type": "code",
   "execution_count": 20,
   "metadata": {},
   "outputs": [
    {
     "name": "stdout",
     "output_type": "stream",
     "text": [
      "{'1': 529, '0': 471}\n"
     ]
    },
    {
     "data": {
      "image/png": "[encoded data removed]",
      "text/plain": [
       "<Figure size 219.833x144.48 with 1 Axes>"
      ]
     },
     "execution_count": 20,
     "metadata": {},
     "output_type": "execute_result"
    }
   ],
   "source": [
    "# the number of qubits\n",
    "n=1 \n",
    "q = QuantumRegister(n)\n",
    "c = ClassicalRegister(n)\n",
    "qc = QuantumCircuit(q,c)\n",
    "#Act H gate\n",
    "qc.h(q[0])\n",
    "# Act measument gate\n",
    "qc.measure(q[0], c[0]) \n",
    "\n",
    "# Make measurement 1000 times\n",
    "simulator = Aer.get_backend('qasm_simulator')\n",
    "job = execute(qc, simulator, shots=1000)\n",
    "result = job.result()\n",
    "counts = result.get_counts(qc)\n",
    "print(counts)\n",
    "\n",
    "qc.draw(output='mpl')"
   ]
  },
  {
   "cell_type": "code",
   "execution_count": 21,
   "metadata": {},
   "outputs": [
    {
     "data": {
      "image/png": "[encoded data removed]",
      "text/plain": [
       "<Figure size 504x360 with 1 Axes>"
      ]
     },
     "execution_count": 21,
     "metadata": {},
     "output_type": "execute_result"
    }
   ],
   "source": [
    "plot_histogram(counts)"
   ]
  },
  {
   "cell_type": "markdown",
   "metadata": {},
   "source": [
    "### This is not exactly 50:50 because of statistical errors."
   ]
  },
  {
   "cell_type": "markdown",
   "metadata": {},
   "source": [
    "## Excercise 2: Measure \n",
    "$$ H|0\\rangle $$\n",
    "## 10000 times and confirm that  statistical error is improved"
   ]
  },
  {
   "cell_type": "code",
   "execution_count": null,
   "metadata": {},
   "outputs": [],
   "source": [
    "\n",
    "\n",
    "\n",
    "\n",
    "\n",
    "\n",
    "\n",
    "\n",
    "\n",
    "\n",
    "\n",
    "\n",
    "\n",
    "\n",
    "\n",
    "\n",
    "\n",
    "\n",
    "\n",
    "\n",
    "\n",
    "\n",
    "\n",
    "\n",
    "\n",
    "\n",
    "\n",
    "\n",
    "\n",
    "\n",
    "\n",
    "\n",
    "\n",
    "\n",
    "\n"
   ]
  },
  {
   "cell_type": "markdown",
   "metadata": {},
   "source": [
    "## Answer"
   ]
  },
  {
   "cell_type": "code",
   "execution_count": 24,
   "metadata": {},
   "outputs": [
    {
     "name": "stdout",
     "output_type": "stream",
     "text": [
      "{'1': 5065, '0': 4935}\n"
     ]
    },
    {
     "data": {
      "image/png": "[encoded data removed]",
      "text/plain": [
       "<Figure size 504x360 with 1 Axes>"
      ]
     },
     "execution_count": 24,
     "metadata": {},
     "output_type": "execute_result"
    }
   ],
   "source": [
    "# the number of qubits\n",
    "n=1 \n",
    "q = QuantumRegister(n)\n",
    "c = ClassicalRegister(n)\n",
    "qc = QuantumCircuit(q,c)\n",
    "#Act H gate\n",
    "qc.h(q[0])\n",
    "# Act measument gate\n",
    "qc.measure(q[0], c[0]) \n",
    "\n",
    "# Make measurement 10000 times\n",
    "simulator = Aer.get_backend('qasm_simulator')\n",
    "job = execute(qc, simulator, shots=10000)\n",
    "result = job.result()\n",
    "counts = result.get_counts(qc)\n",
    "print(counts)\n",
    "\n",
    "plot_histogram(counts)"
   ]
  },
  {
   "cell_type": "markdown",
   "metadata": {},
   "source": [
    "## Excercise 3: Measure $H|1\\rangle $ 1000 times and get Histogram "
   ]
  },
  {
   "cell_type": "code",
   "execution_count": null,
   "metadata": {},
   "outputs": [],
   "source": [
    "\n",
    "\n",
    "\n",
    "\n",
    "\n",
    "\n",
    "\n",
    "\n",
    "\n",
    "\n",
    "\n",
    "\n",
    "\n",
    "\n",
    "\n",
    "\n",
    "\n",
    "\n",
    "\n",
    "\n",
    "\n",
    "\n",
    "\n",
    "\n",
    "\n",
    "\n",
    "\n",
    "\n",
    "\n",
    "\n",
    "\n",
    "\n",
    "\n",
    "\n",
    "\n"
   ]
  },
  {
   "cell_type": "markdown",
   "metadata": {},
   "source": [
    "## Answer:"
   ]
  },
  {
   "cell_type": "code",
   "execution_count": 27,
   "metadata": {},
   "outputs": [
    {
     "name": "stdout",
     "output_type": "stream",
     "text": [
      "{'0': 507, '1': 493}\n"
     ]
    },
    {
     "data": {
      "image/png": "[encoded data removed]",
      "text/plain": [
       "<Figure size 293.304x144.48 with 1 Axes>"
      ]
     },
     "execution_count": 27,
     "metadata": {},
     "output_type": "execute_result"
    }
   ],
   "source": [
    "# the number of qubits\n",
    "n=1 \n",
    "q = QuantumRegister(n)\n",
    "c = ClassicalRegister(n)\n",
    "qc = QuantumCircuit(q,c)\n",
    "#Act X to get |1>\n",
    "qc.x(q[0])\n",
    "# Act H\n",
    "qc.h(q[0])\n",
    "# Act measument gate\n",
    "qc.measure(q[0], c[0]) \n",
    "\n",
    "#Measure 1000 times\n",
    "simulator = Aer.get_backend('qasm_simulator')\n",
    "job = execute(qc, simulator, shots=1000)\n",
    "result = job.result()\n",
    "counts = result.get_counts(qc)\n",
    "print(counts)\n",
    "\n",
    "qc.draw(output='mpl')"
   ]
  },
  {
   "cell_type": "code",
   "execution_count": 28,
   "metadata": {},
   "outputs": [
    {
     "data": {
      "image/png": "[encoded data removed]",
      "text/plain": [
       "<Figure size 504x360 with 1 Axes>"
      ]
     },
     "execution_count": 28,
     "metadata": {},
     "output_type": "execute_result"
    }
   ],
   "source": [
    "plot_histogram(counts)"
   ]
  },
  {
   "cell_type": "markdown",
   "metadata": {},
   "source": [
    "Ideally we should get 50:50 since\n",
    "$$ H|1\\rangle =\\frac{1}{\\sqrt{2}}(|0\\rangle -|1\\rangle ) $$"
   ]
  },
  {
   "cell_type": "markdown",
   "metadata": {},
   "source": [
    "## 1-4. Make measurement of 2-qubit cirquits\n",
    "* Measure |00>"
   ]
  },
  {
   "cell_type": "code",
   "execution_count": 29,
   "metadata": {},
   "outputs": [
    {
     "name": "stdout",
     "output_type": "stream",
     "text": [
      "{'00': 1000}\n"
     ]
    },
    {
     "data": {
      "image/png": "[encoded data removed]",
      "text/plain": [
       "<Figure size 246.521x204.68 with 1 Axes>"
      ]
     },
     "execution_count": 29,
     "metadata": {},
     "output_type": "execute_result"
    }
   ],
   "source": [
    "# the number of qubits\n",
    "n=2 \n",
    "q = QuantumRegister(n)\n",
    "c = ClassicalRegister(n)\n",
    "qc = QuantumCircuit(q,c)\n",
    "# Act measument gate\n",
    "qc.measure(q[0:n],c[0:n]) \n",
    "\n",
    "# Make measurement 1000 times\n",
    "simulator = Aer.get_backend('qasm_simulator')\n",
    "job = execute(qc, simulator, shots=1000)\n",
    "result = job.result()\n",
    "counts = result.get_counts(qc)\n",
    "print(counts)\n",
    "\n",
    "qc.draw(output='mpl')"
   ]
  },
  {
   "cell_type": "markdown",
   "metadata": {},
   "source": [
    "* Measure |01>"
   ]
  },
  {
   "cell_type": "code",
   "execution_count": 31,
   "metadata": {},
   "outputs": [
    {
     "name": "stdout",
     "output_type": "stream",
     "text": [
      "{'10': 1000}\n"
     ]
    },
    {
     "data": {
      "image/png": "[encoded data removed]",
      "text/plain": [
       "<Figure size 306.721x204.68 with 1 Axes>"
      ]
     },
     "execution_count": 31,
     "metadata": {},
     "output_type": "execute_result"
    }
   ],
   "source": [
    "# the number of qubits\n",
    "n=2 \n",
    "q = QuantumRegister(n)\n",
    "c = ClassicalRegister(n)\n",
    "qc = QuantumCircuit(q,c)\n",
    "# Act X gate on 2nd qubit\n",
    "qc.x(q[1])\n",
    "# Act measument gate\n",
    "qc.measure(q[0:n],c[0:n]) \n",
    "\n",
    "# Make measurement 1000 times\n",
    "simulator = Aer.get_backend('qasm_simulator')\n",
    "job = execute(qc, simulator, shots=1000)\n",
    "result = job.result()\n",
    "counts = result.get_counts(qc)\n",
    "print(counts)\n",
    "\n",
    "qc.draw(output='mpl')"
   ]
  },
  {
   "cell_type": "markdown",
   "metadata": {},
   "source": [
    "Note that output appears in opposite order"
   ]
  },
  {
   "cell_type": "markdown",
   "metadata": {},
   "source": [
    "* Measure \n",
    "$$ |0\\rangle \\otimes H|0\\rangle =\\frac{1}{\\sqrt{2}}(|00\\rangle +|01\\rangle ) $$"
   ]
  },
  {
   "cell_type": "code",
   "execution_count": 34,
   "metadata": {},
   "outputs": [
    {
     "name": "stdout",
     "output_type": "stream",
     "text": [
      "{'10': 505, '00': 495}\n"
     ]
    },
    {
     "data": {
      "image/png": "[encoded data removed]",
      "text/plain": [
       "<Figure size 306.721x204.68 with 1 Axes>"
      ]
     },
     "execution_count": 34,
     "metadata": {},
     "output_type": "execute_result"
    }
   ],
   "source": [
    "# the number of qubits\n",
    "n=2 \n",
    "q = QuantumRegister(n)\n",
    "c = ClassicalRegister(n)\n",
    "qc = QuantumCircuit(q,c)\n",
    "# Act X gate on 2nd qubit\n",
    "qc.h(q[1])\n",
    "# Act measument gate\n",
    "qc.measure(q[0:n],c[0:n]) \n",
    "\n",
    "# Make measurement 1000 times\n",
    "simulator = Aer.get_backend('qasm_simulator')\n",
    "job = execute(qc, simulator, shots=1000)\n",
    "result = job.result()\n",
    "counts = result.get_counts(qc)\n",
    "print(counts)\n",
    "\n",
    "qc.draw(output='mpl')"
   ]
  },
  {
   "cell_type": "code",
   "execution_count": 35,
   "metadata": {},
   "outputs": [
    {
     "data": {
      "image/png": "[encoded data removed]",
      "text/plain": [
       "<Figure size 504x360 with 1 Axes>"
      ]
     },
     "execution_count": 35,
     "metadata": {},
     "output_type": "execute_result"
    }
   ],
   "source": [
    "plot_histogram(counts)"
   ]
  },
  {
   "cell_type": "markdown",
   "metadata": {},
   "source": [
    "## Exercise 4: Check the action of controlled-X:\n",
    "$$ CX|00\\rangle = |00\\rangle ,\\quad CX|01\\rangle =|01\\rangle ,\\quad CX|10\\rangle =|11\\rangle ,\\quad CX|11\\rangle = |10\\rangle $$\n",
    "## by making measurements 1000 times\n",
    "## (Confirm that RHS's appear in 100%)"
   ]
  },
  {
   "cell_type": "code",
   "execution_count": null,
   "metadata": {},
   "outputs": [],
   "source": [
    "\n",
    "\n",
    "\n",
    "\n",
    "\n",
    "\n",
    "\n",
    "\n",
    "\n",
    "\n",
    "\n",
    "\n",
    "\n",
    "\n",
    "\n",
    "\n",
    "\n",
    "\n",
    "\n",
    "\n",
    "\n",
    "\n",
    "\n",
    "\n",
    "\n",
    "\n",
    "\n"
   ]
  },
  {
   "cell_type": "markdown",
   "metadata": {},
   "source": [
    "## Answer:"
   ]
  },
  {
   "cell_type": "code",
   "execution_count": 36,
   "metadata": {},
   "outputs": [
    {
     "name": "stdout",
     "output_type": "stream",
     "text": [
      "{'00': 1000}\n"
     ]
    },
    {
     "data": {
      "image/png": "[encoded data removed]",
      "text/plain": [
       "<Figure size 306.575x204.68 with 1 Axes>"
      ]
     },
     "execution_count": 36,
     "metadata": {},
     "output_type": "execute_result"
    }
   ],
   "source": [
    "#Check CX|00> =|00>\n",
    "n=2 \n",
    "q = QuantumRegister(n)\n",
    "c = ClassicalRegister(n)\n",
    "qc = QuantumCircuit(q,c)\n",
    "# Act CX\n",
    "qc.cx(q[0],q[1])\n",
    "# Act measument gate\n",
    "qc.measure(q[0:n],c[0:n]) \n",
    "\n",
    "# Make measurement 1000 times\n",
    "simulator = Aer.get_backend('qasm_simulator')\n",
    "job = execute(qc, simulator, shots=1000)\n",
    "result = job.result()\n",
    "counts = result.get_counts(qc)\n",
    "print(counts)\n",
    "\n",
    "qc.draw(output='mpl')"
   ]
  },
  {
   "cell_type": "code",
   "execution_count": 37,
   "metadata": {},
   "outputs": [
    {
     "name": "stdout",
     "output_type": "stream",
     "text": [
      "{'10': 1000}\n"
     ]
    },
    {
     "data": {
      "image/png": "[encoded data removed]",
      "text/plain": [
       "<Figure size 366.921x204.68 with 1 Axes>"
      ]
     },
     "execution_count": 37,
     "metadata": {},
     "output_type": "execute_result"
    }
   ],
   "source": [
    "#Check CX|01> =|01>\n",
    "n=2 \n",
    "q = QuantumRegister(n)\n",
    "c = ClassicalRegister(n)\n",
    "qc = QuantumCircuit(q,c)\n",
    "# Make |01>\n",
    "qc.x(q[1])\n",
    "# Act CX\n",
    "qc.cx(q[0],q[1])\n",
    "# Act measument gate\n",
    "qc.measure(q[0:n],c[0:n]) \n",
    "\n",
    "# Make measurement 1000 times\n",
    "simulator = Aer.get_backend('qasm_simulator')\n",
    "job = execute(qc, simulator, shots=1000)\n",
    "result = job.result()\n",
    "counts = result.get_counts(qc)\n",
    "print(counts)\n",
    "\n",
    "qc.draw(output='mpl')"
   ]
  },
  {
   "cell_type": "code",
   "execution_count": 38,
   "metadata": {},
   "outputs": [
    {
     "name": "stdout",
     "output_type": "stream",
     "text": [
      "{'11': 1000}\n"
     ]
    },
    {
     "data": {
      "image/png": "[encoded data removed]",
      "text/plain": [
       "<Figure size 366.775x204.68 with 1 Axes>"
      ]
     },
     "execution_count": 38,
     "metadata": {},
     "output_type": "execute_result"
    }
   ],
   "source": [
    "#Check CX|10> =|11>\n",
    "n=2 \n",
    "q = QuantumRegister(n)\n",
    "c = ClassicalRegister(n)\n",
    "qc = QuantumCircuit(q,c)\n",
    "# Make |10>\n",
    "qc.x(q[0])\n",
    "# Act CX\n",
    "qc.cx(q[0],q[1])\n",
    "# Act measument gate\n",
    "qc.measure(q[0:n],c[0:n]) \n",
    "\n",
    "# Make measurement 1000 times\n",
    "simulator = Aer.get_backend('qasm_simulator')\n",
    "job = execute(qc, simulator, shots=1000)\n",
    "result = job.result()\n",
    "counts = result.get_counts(qc)\n",
    "print(counts)\n",
    "\n",
    "qc.draw(output='mpl')"
   ]
  },
  {
   "cell_type": "code",
   "execution_count": 39,
   "metadata": {},
   "outputs": [
    {
     "name": "stdout",
     "output_type": "stream",
     "text": [
      "{'01': 1000}\n"
     ]
    },
    {
     "data": {
      "image/png": "[encoded data removed]",
      "text/plain": [
       "<Figure size 366.775x204.68 with 1 Axes>"
      ]
     },
     "execution_count": 39,
     "metadata": {},
     "output_type": "execute_result"
    }
   ],
   "source": [
    "#Check CX|11> =|10>\n",
    "n=2 \n",
    "q = QuantumRegister(n)\n",
    "c = ClassicalRegister(n)\n",
    "qc = QuantumCircuit(q,c)\n",
    "# Make |11>\n",
    "qc.x(q[0])\n",
    "qc.x(q[1])\n",
    "# Act CX\n",
    "qc.cx(q[0],q[1])\n",
    "# Act measument gate\n",
    "qc.measure(q[0:n],c[0:n]) \n",
    "\n",
    "# Make measurement 1000 times\n",
    "simulator = Aer.get_backend('qasm_simulator')\n",
    "job = execute(qc, simulator, shots=1000)\n",
    "result = job.result()\n",
    "counts = result.get_counts(qc)\n",
    "print(counts)\n",
    "\n",
    "qc.draw(output='mpl')"
   ]
  },
  {
   "cell_type": "markdown",
   "metadata": {},
   "source": [
    "## Exercise 5: Construct Bell pairs.\n",
    "### Ex.5-1: Construct the following Bell state\n",
    "$$ |B_1^+\\rangle \\equiv \\frac{1}{\\sqrt{2}}(|00\\rangle +|11\\rangle ) = CX H^{(1)}|00\\rangle  $$\n",
    "### and do a consistency check by measuring probabilities having each basis "
   ]
  },
  {
   "cell_type": "code",
   "execution_count": null,
   "metadata": {},
   "outputs": [],
   "source": [
    "\n",
    "\n",
    "\n",
    "\n",
    "\n",
    "\n",
    "\n",
    "\n",
    "\n",
    "\n",
    "\n",
    "\n",
    "\n",
    "\n",
    "\n",
    "\n",
    "\n",
    "\n",
    "\n",
    "\n",
    "\n",
    "\n",
    "\n",
    "\n",
    "\n",
    "\n",
    "\n"
   ]
  },
  {
   "cell_type": "markdown",
   "metadata": {},
   "source": [
    "## Answer:"
   ]
  },
  {
   "cell_type": "code",
   "execution_count": 26,
   "metadata": {},
   "outputs": [
    {
     "name": "stdout",
     "output_type": "stream",
     "text": [
      "{'00': 5040, '11': 4960}\n"
     ]
    },
    {
     "data": {
      "image/png": "[encoded data removed]",
      "text/plain": [
       "<Figure size 366.63x204.68 with 1 Axes>"
      ]
     },
     "execution_count": 26,
     "metadata": {},
     "output_type": "execute_result"
    }
   ],
   "source": [
    "n=2 \n",
    "q = QuantumRegister(n)\n",
    "c = ClassicalRegister(n)\n",
    "qc = QuantumCircuit(q,c)\n",
    "# Get |B_1^+ >\n",
    "qc.h(q[0])\n",
    "qc.cx(q[0],q[1])\n",
    "# Act measument gate\n",
    "qc.measure(q[0:n],c[0:n]) \n",
    "\n",
    "# Make measurement 1000 times\n",
    "simulator = Aer.get_backend('qasm_simulator')\n",
    "job = execute(qc, simulator, shots=10000)\n",
    "result = job.result()\n",
    "counts = result.get_counts(qc)\n",
    "print(counts)\n",
    "\n",
    "qc.draw(output='mpl')"
   ]
  },
  {
   "cell_type": "markdown",
   "metadata": {},
   "source": [
    "### Ex.5-2: Construct the other Bell states\n",
    "$$ |B_1^-\\rangle \\equiv\\frac{1}{\\sqrt{2}}(|00\\rangle -|11\\rangle ) ,\\quad\n",
    "|B_2^+\\rangle \\equiv \\frac{1}{\\sqrt{2}}(|01\\rangle +|10\\rangle ) ,\\quad\n",
    "|B_2^-\\rangle \\equiv \\frac{1}{\\sqrt{2}}(|01\\rangle -|10\\rangle )  $$,\n",
    "### and do a consistency check by measuring probabilities having each basis"
   ]
  },
  {
   "cell_type": "markdown",
   "metadata": {},
   "source": [
    "$$ |B_1^- \\rangle = Z^{(1)} |B_1^+ \\rangle $$\n",
    "$$ |B_2^+ \\rangle = X^{(1)} |B_1^+ \\rangle $$\n",
    "$$ |B_2^- \\rangle = Z^{(1)} |B_2^+ \\rangle $$"
   ]
  },
  {
   "cell_type": "code",
   "execution_count": null,
   "metadata": {},
   "outputs": [],
   "source": [
    "\n",
    "\n",
    "\n",
    "\n",
    "\n",
    "\n",
    "\n",
    "\n",
    "\n",
    "\n",
    "\n",
    "\n",
    "\n",
    "\n",
    "\n",
    "\n",
    "\n",
    "\n",
    "\n",
    "\n",
    "\n",
    "\n",
    "\n",
    "\n",
    "\n",
    "\n",
    "\n"
   ]
  },
  {
   "cell_type": "markdown",
   "metadata": {},
   "source": [
    "## Answer:\n",
    "### Note\n",
    "$$ |B_1^- \\rangle =Z^{(1)} |B_1^+\\rangle ,\\quad {\\rm or} \\quad \n",
    " |B_1^- \\rangle =Z^{(2)} |B_1^+\\rangle ,\\quad {\\rm or} \\quad \n",
    "  |B_1^- \\rangle =CX H^{(1)}X^{(1)} |00\\rangle \\quad {\\rm etc...} $$\n",
    "$$ |B_2^+ \\rangle =X^{(1)} |B_1^+\\rangle ,\\quad {\\rm or} \\quad \n",
    " |B_2^+ \\rangle =X^{(2)} |B_1^+\\rangle ,\\quad  {\\rm etc...} $$\n",
    "and\n",
    "$$ |B_2^- \\rangle =X^{(2)} |B_1^-\\rangle ,\\quad {\\rm or}\\quad \n",
    " |B_2^- \\rangle =Z^{(1)} |B_2^+\\rangle ,\\quad  {\\rm etc...} $$\n"
   ]
  },
  {
   "cell_type": "code",
   "execution_count": 41,
   "metadata": {},
   "outputs": [
    {
     "name": "stdout",
     "output_type": "stream",
     "text": [
      "{'00': 495, '11': 505}\n"
     ]
    },
    {
     "data": {
      "image/png": "[encoded data removed]",
      "text/plain": [
       "<Figure size 367.066x204.68 with 1 Axes>"
      ]
     },
     "execution_count": 41,
     "metadata": {},
     "output_type": "execute_result"
    }
   ],
   "source": [
    "# |B_1^- >\n",
    "n=2 \n",
    "q = QuantumRegister(n)\n",
    "c = ClassicalRegister(n)\n",
    "qc = QuantumCircuit(q,c)\n",
    "# Get |B_1^+ >\n",
    "qc.h(q[0])\n",
    "qc.cx(q[0],q[1])\n",
    "# Go to |B_1^- >\n",
    "qc.z(q[0])\n",
    "# Act measument gate\n",
    "qc.measure(q[0:n],c[0:n]) \n",
    "\n",
    "# Make measurement 1000 times\n",
    "simulator = Aer.get_backend('qasm_simulator')\n",
    "job = execute(qc, simulator, shots=1000)\n",
    "result = job.result()\n",
    "counts = result.get_counts(qc)\n",
    "print(counts)\n",
    "\n",
    "qc.draw(output='mpl')"
   ]
  },
  {
   "cell_type": "code",
   "execution_count": 42,
   "metadata": {},
   "outputs": [
    {
     "name": "stdout",
     "output_type": "stream",
     "text": [
      "{'01': 496, '10': 504}\n"
     ]
    },
    {
     "data": {
      "image/png": "[encoded data removed]",
      "text/plain": [
       "<Figure size 366.921x204.68 with 1 Axes>"
      ]
     },
     "execution_count": 42,
     "metadata": {},
     "output_type": "execute_result"
    }
   ],
   "source": [
    "# |B_2^+ >\n",
    "n=2 \n",
    "q = QuantumRegister(n)\n",
    "c = ClassicalRegister(n)\n",
    "qc = QuantumCircuit(q,c)\n",
    "# Get |B_1^+ >\n",
    "qc.h(q[0])\n",
    "qc.cx(q[0],q[1])\n",
    "# Go to |B_2^+ >\n",
    "qc.x(q[0])\n",
    "# Act measument gate\n",
    "qc.measure(q[0:n],c[0:n]) \n",
    "\n",
    "# Make measurement 1000 times\n",
    "simulator = Aer.get_backend('qasm_simulator')\n",
    "job = execute(qc, simulator, shots=1000)\n",
    "result = job.result()\n",
    "counts = result.get_counts(qc)\n",
    "print(counts)\n",
    "\n",
    "qc.draw(output='mpl')"
   ]
  },
  {
   "cell_type": "code",
   "execution_count": 43,
   "metadata": {},
   "outputs": [
    {
     "name": "stdout",
     "output_type": "stream",
     "text": [
      "{'01': 536, '10': 464}\n"
     ]
    },
    {
     "data": {
      "image/png": "[encoded data removed]",
      "text/plain": [
       "<Figure size 427.266x204.68 with 1 Axes>"
      ]
     },
     "execution_count": 43,
     "metadata": {},
     "output_type": "execute_result"
    }
   ],
   "source": [
    "# |B_2^- >\n",
    "n=2 \n",
    "q = QuantumRegister(n)\n",
    "c = ClassicalRegister(n)\n",
    "qc = QuantumCircuit(q,c)\n",
    "# Get |B_1^+ >\n",
    "qc.h(q[0])\n",
    "qc.cx(q[0],q[1])\n",
    "# Get |B_2^+ >\n",
    "qc.x(q[0])\n",
    "# Go to |B_2^- >\n",
    "qc.z(q[0])\n",
    "# Act measument gate\n",
    "qc.measure(q[0:n],c[0:n]) \n",
    "\n",
    "# Make measurement 1000 times\n",
    "simulator = Aer.get_backend('qasm_simulator')\n",
    "job = execute(qc, simulator, shots=1000)\n",
    "result = job.result()\n",
    "counts = result.get_counts(qc)\n",
    "print(counts)\n",
    "\n",
    "qc.draw(output='mpl')"
   ]
  },
  {
   "cell_type": "markdown",
   "metadata": {},
   "source": [
    "### Ex.5-3: Show\n",
    "$$ \\langle B_1^- | B_1^+ \\rangle =0 ,\\quad\n",
    "\\langle B_2^\\pm | B_1^+ \\rangle =0  $$\n",
    "### by computing the probability\n",
    "$$ \\left| \\langle B_1^- | B_1^+ \\rangle \\right|^2 ,\\quad\n",
    " \\left| \\langle B_2^\\pm | B_1^+ \\rangle \\right|^2 $$"
   ]
  },
  {
   "cell_type": "markdown",
   "metadata": {},
   "source": [
    "$$ \\langle B_1^- | B_1^+ \\rangle\n",
    "=\\langle 00|H^{(1)} CX Z^{(1)}  \\cdot CX H^{(1)} |00\\rangle $$\n"
   ]
  },
  {
   "cell_type": "code",
   "execution_count": null,
   "metadata": {},
   "outputs": [],
   "source": [
    "\n",
    "\n",
    "\n",
    "\n",
    "\n",
    "\n",
    "\n",
    "\n",
    "\n",
    "\n",
    "\n",
    "\n",
    "\n",
    "\n",
    "\n",
    "\n",
    "\n",
    "\n",
    "\n",
    "\n",
    "\n",
    "\n",
    "\n",
    "\n",
    "\n",
    "\n",
    "\n"
   ]
  },
  {
   "cell_type": "markdown",
   "metadata": {},
   "source": [
    "## Answer:"
   ]
  },
  {
   "cell_type": "code",
   "execution_count": 44,
   "metadata": {},
   "outputs": [
    {
     "name": "stdout",
     "output_type": "stream",
     "text": [
      "{'01': 1000}\n"
     ]
    },
    {
     "data": {
      "image/png": "[encoded data removed]",
      "text/plain": [
       "<Figure size 487.466x204.68 with 1 Axes>"
      ]
     },
     "execution_count": 44,
     "metadata": {},
     "output_type": "execute_result"
    }
   ],
   "source": [
    "# <B_1^- |B_1^+ >\n",
    "n=2 \n",
    "q = QuantumRegister(n)\n",
    "c = ClassicalRegister(n)\n",
    "qc = QuantumCircuit(q,c)\n",
    "# Get |B_1^+>\n",
    "qc.h(q[0])\n",
    "qc.cx(q[0],q[1])\n",
    "# Do the inverse procudure to get |B_1^->\n",
    "qc.z(q[0])\n",
    "qc.cx(q[0],q[1])\n",
    "qc.h(q[0])\n",
    "# Act measument gate\n",
    "qc.measure(q[0:n],c[0:n]) \n",
    "\n",
    "# Make measurement 1000 times\n",
    "simulator = Aer.get_backend('qasm_simulator')\n",
    "job = execute(qc, simulator, shots=1000)\n",
    "result = job.result()\n",
    "counts = result.get_counts(qc)\n",
    "print(counts)\n",
    "\n",
    "qc.draw(output='mpl')"
   ]
  },
  {
   "cell_type": "code",
   "execution_count": 45,
   "metadata": {},
   "outputs": [
    {
     "name": "stdout",
     "output_type": "stream",
     "text": [
      "{'10': 1000}\n"
     ]
    },
    {
     "data": {
      "image/png": "[encoded data removed]",
      "text/plain": [
       "<Figure size 487.03x204.68 with 1 Axes>"
      ]
     },
     "execution_count": 45,
     "metadata": {},
     "output_type": "execute_result"
    }
   ],
   "source": [
    "# <B_2^+ |B_1^+ >\n",
    "n=2 \n",
    "q = QuantumRegister(n)\n",
    "c = ClassicalRegister(n)\n",
    "qc = QuantumCircuit(q,c)\n",
    "# Get |B_1^+>\n",
    "qc.h(q[0])\n",
    "qc.cx(q[0],q[1])\n",
    "# Do the inverse procudure to get |B_2^+>\n",
    "qc.x(q[0])\n",
    "qc.cx(q[0],q[1])\n",
    "qc.h(q[0])\n",
    "# Act measument gate\n",
    "qc.measure(q[0:n],c[0:n]) \n",
    "\n",
    "# Make measurement 1000 times\n",
    "simulator = Aer.get_backend('qasm_simulator')\n",
    "job = execute(qc, simulator, shots=1000)\n",
    "result = job.result()\n",
    "counts = result.get_counts(qc)\n",
    "print(counts)\n",
    "\n",
    "qc.draw(output='mpl')"
   ]
  },
  {
   "cell_type": "code",
   "execution_count": 46,
   "metadata": {},
   "outputs": [
    {
     "name": "stdout",
     "output_type": "stream",
     "text": [
      "{'11': 1000}\n"
     ]
    },
    {
     "data": {
      "image/png": "[encoded data removed]",
      "text/plain": [
       "<Figure size 547.666x204.68 with 1 Axes>"
      ]
     },
     "execution_count": 46,
     "metadata": {},
     "output_type": "execute_result"
    }
   ],
   "source": [
    "# <B_2^- |B_1^+ >\n",
    "n=2 \n",
    "q = QuantumRegister(n)\n",
    "c = ClassicalRegister(n)\n",
    "qc = QuantumCircuit(q,c)\n",
    "# Get |B_1^+>\n",
    "qc.h(q[0])\n",
    "qc.cx(q[0],q[1])\n",
    "# Do the inverse procudure to get |B_2^->\n",
    "qc.z(q[0])\n",
    "qc.x(q[0])\n",
    "qc.cx(q[0],q[1])\n",
    "qc.h(q[0])\n",
    "# Act measument gate\n",
    "qc.measure(q[0:n],c[0:n]) \n",
    "\n",
    "# Make measurement 1000 times\n",
    "simulator = Aer.get_backend('qasm_simulator')\n",
    "job = execute(qc, simulator, shots=1000)\n",
    "result = job.result()\n",
    "counts = result.get_counts(qc)\n",
    "print(counts)\n",
    "\n",
    "qc.draw(output='mpl')"
   ]
  },
  {
   "cell_type": "markdown",
   "metadata": {},
   "source": [
    "### Barrier does nothing, but it is sometimes useful to make circuit clearer\n"
   ]
  },
  {
   "cell_type": "code",
   "execution_count": 48,
   "metadata": {},
   "outputs": [
    {
     "data": {
      "image/png": "[encoded data removed]",
      "text/plain": [
       "<Figure size 728.266x204.68 with 1 Axes>"
      ]
     },
     "execution_count": 48,
     "metadata": {},
     "output_type": "execute_result"
    }
   ],
   "source": [
    "# <B_2^- |B_1^+ >\n",
    "n=2 \n",
    "q = QuantumRegister(n)\n",
    "c = ClassicalRegister(n)\n",
    "qc = QuantumCircuit(q,c)\n",
    "# Get |B_1^+>\n",
    "qc.h(q[0])\n",
    "qc.cx(q[0],q[1])\n",
    "qc.barrier(q)\n",
    "\n",
    "# Do the inverse procudure to get |B_2^->\n",
    "qc.z(q[0])\n",
    "qc.x(q[0])\n",
    "qc.cx(q[0],q[1])\n",
    "qc.h(q[0])\n",
    "# Act measument gate\n",
    "qc.barrier(q)\n",
    "qc.measure(q[0:n],c[0:n]) \n",
    "\n",
    "\n",
    "qc.draw(output='mpl')"
   ]
  },
  {
   "cell_type": "markdown",
   "metadata": {},
   "source": [
    "## 1-5. Submit a job to a real quantum computer"
   ]
  },
  {
   "cell_type": "markdown",
   "metadata": {},
   "source": [
    "### Get a token from IBM Quantum experience\n",
    "### (This is only for first time)"
   ]
  },
  {
   "attachments": {
    "image-3.png": {
     "image/png": "[encoded data removed]"
    }
   },
   "cell_type": "markdown",
   "metadata": {},
   "source": [
    "![image-3.png](attachment:image-3.png)"
   ]
  },
  {
   "cell_type": "markdown",
   "metadata": {},
   "source": [
    "### Paste the token to save it by \n",
    "### IBMQ.save_account('your token')"
   ]
  },
  {
   "cell_type": "code",
   "execution_count": 50,
   "metadata": {
    "scrolled": true
   },
   "outputs": [
    {
     "name": "stderr",
     "output_type": "stream",
     "text": [
      "configrc.store_credentials:WARNING:2023-07-06 15:58:11,832: Credentials already present. Set overwrite=True to overwrite.\n"
     ]
    }
   ],
   "source": [
    "IBMQ.save_account('5cf7fe69c8bbe4697eebbe6a3788a98157dd5165125f528d5a6fcc6a6247b8cbef0c62cf10d7b1709b34f3c15d5f230be2cd0fe6cf8545446957dd2d3a842f65')"
   ]
  },
  {
   "cell_type": "markdown",
   "metadata": {},
   "source": [
    "### Load your account"
   ]
  },
  {
   "cell_type": "code",
   "execution_count": 51,
   "metadata": {},
   "outputs": [
    {
     "data": {
      "text/plain": [
       "<AccountProvider for IBMQ(hub='ibm-q', group='open', project='main')>"
      ]
     },
     "execution_count": 51,
     "metadata": {},
     "output_type": "execute_result"
    }
   ],
   "source": [
    "IBMQ.load_account()"
   ]
  },
  {
   "cell_type": "markdown",
   "metadata": {},
   "source": [
    "### Check available devices"
   ]
  },
  {
   "cell_type": "code",
   "execution_count": 52,
   "metadata": {},
   "outputs": [
    {
     "data": {
      "text/plain": [
       "[<IBMQSimulator('ibmq_qasm_simulator') from IBMQ(hub='ibm-q', group='open', project='main')>,\n",
       " <IBMQBackend('ibmq_lima') from IBMQ(hub='ibm-q', group='open', project='main')>,\n",
       " <IBMQBackend('ibmq_belem') from IBMQ(hub='ibm-q', group='open', project='main')>,\n",
       " <IBMQBackend('ibmq_quito') from IBMQ(hub='ibm-q', group='open', project='main')>,\n",
       " <IBMQSimulator('simulator_statevector') from IBMQ(hub='ibm-q', group='open', project='main')>,\n",
       " <IBMQSimulator('simulator_mps') from IBMQ(hub='ibm-q', group='open', project='main')>,\n",
       " <IBMQSimulator('simulator_extended_stabilizer') from IBMQ(hub='ibm-q', group='open', project='main')>,\n",
       " <IBMQSimulator('simulator_stabilizer') from IBMQ(hub='ibm-q', group='open', project='main')>,\n",
       " <IBMQBackend('ibmq_jakarta') from IBMQ(hub='ibm-q', group='open', project='main')>,\n",
       " <IBMQBackend('ibmq_manila') from IBMQ(hub='ibm-q', group='open', project='main')>,\n",
       " <IBMQBackend('ibm_lagos') from IBMQ(hub='ibm-q', group='open', project='main')>,\n",
       " <IBMQBackend('ibm_nairobi') from IBMQ(hub='ibm-q', group='open', project='main')>,\n",
       " <IBMQBackend('ibm_perth') from IBMQ(hub='ibm-q', group='open', project='main')>]"
      ]
     },
     "execution_count": 52,
     "metadata": {},
     "output_type": "execute_result"
    }
   ],
   "source": [
    "provider = IBMQ.get_provider(group='open')\n",
    "provider.backends()"
   ]
  },
  {
   "cell_type": "markdown",
   "metadata": {},
   "source": [
    "### Measure $|1\\rangle$ 1000 times by a real quantum computer"
   ]
  },
  {
   "cell_type": "code",
   "execution_count": null,
   "metadata": {},
   "outputs": [],
   "source": [
    "# the number of qubits\n",
    "n=1 \n",
    "q = QuantumRegister(n)\n",
    "c = ClassicalRegister(n)\n",
    "qc = QuantumCircuit(q,c)\n",
    "#Act X gate\n",
    "qc.x(q[0])\n",
    "# Act measument gate\n",
    "qc.measure(q[0:n],c[0:n]) \n",
    "\n",
    "# Make measurement 1000 times\n",
    "## HERE iS THE DIFFERENCE!\n",
    "simulator = provider.get_backend('ibmq_belem')\n",
    "#simulator = Aer.get_backend('qasm_simulator')\n",
    "\n",
    "job = execute(qc, simulator, shots=1000)\n",
    "result = job.result()\n",
    "counts = result.get_counts(qc)\n",
    "print(counts)\n",
    "\n",
    "plot_histogram(counts)"
   ]
  },
  {
   "cell_type": "markdown",
   "metadata": {},
   "source": [
    "## Excercise 6: Submit a job to measure $H|0\\rangle$ 1000 times in a real quantum computer\n",
    "### (it may take a long time to get a result)"
   ]
  },
  {
   "cell_type": "code",
   "execution_count": null,
   "metadata": {},
   "outputs": [],
   "source": [
    "\n",
    "\n",
    "\n",
    "\n",
    "\n",
    "\n",
    "\n",
    "\n",
    "\n",
    "\n",
    "\n",
    "\n",
    "\n",
    "\n",
    "\n",
    "\n",
    "\n",
    "\n",
    "\n",
    "\n",
    "\n",
    "\n",
    "\n",
    "\n",
    "\n",
    "\n",
    "\n",
    "\n",
    "\n",
    "\n",
    "\n",
    "\n",
    "\n",
    "\n",
    "\n"
   ]
  },
  {
   "cell_type": "markdown",
   "metadata": {},
   "source": [
    "## Answer"
   ]
  },
  {
   "cell_type": "code",
   "execution_count": 10,
   "metadata": {},
   "outputs": [
    {
     "name": "stdout",
     "output_type": "stream",
     "text": [
      "{'0': 514, '1': 486}\n"
     ]
    },
    {
     "data": {
      "image/png": "[encoded data removed]",
      "text/plain": [
       "<Figure size 504x360 with 1 Axes>"
      ]
     },
     "execution_count": 10,
     "metadata": {},
     "output_type": "execute_result"
    }
   ],
   "source": [
    "# the number of qubits\n",
    "n=1 \n",
    "q = QuantumRegister(n)\n",
    "c = ClassicalRegister(n)\n",
    "qc = QuantumCircuit(q,c)\n",
    "#Act H gate\n",
    "qc.h(q[0])\n",
    "# Act measument gate\n",
    "qc.measure(q[0:n],c[0:n]) \n",
    "\n",
    "# Make measurement 1000 times\n",
    "## HERE iS THR DIFFERENCE!\n",
    "simulator = provider.get_backend('ibmq_belem')\n",
    "#simulator = Aer.get_backend('qasm_simulator')\n",
    "\n",
    "job = execute(qc, simulator, shots=1000)\n",
    "result = job.result()\n",
    "counts = result.get_counts(qc)\n",
    "print(counts)\n",
    "\n",
    "plot_histogram(counts)"
   ]
  },
  {
   "cell_type": "code",
   "execution_count": null,
   "metadata": {},
   "outputs": [],
   "source": []
  },
  {
   "cell_type": "code",
   "execution_count": null,
   "metadata": {},
   "outputs": [],
   "source": []
  }
 ],
 "metadata": {
  "kernelspec": {
   "display_name": "Python 3",
   "language": "python",
   "name": "python3"
  },
  "language_info": {
   "codemirror_mode": {
    "name": "ipython",
    "version": 3
   },
   "file_extension": ".py",
   "mimetype": "text/x-python",
   "name": "python",
   "nbconvert_exporter": "python",
   "pygments_lexer": "ipython3",
   "version": "3.8.8"
  }
 },
 "nbformat": 4,
 "nbformat_minor": 2
}
